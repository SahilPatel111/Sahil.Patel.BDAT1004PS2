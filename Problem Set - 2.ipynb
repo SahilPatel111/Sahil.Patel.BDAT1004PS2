{
 "cells": [
  {
   "cell_type": "markdown",
   "id": "5e46cabf",
   "metadata": {},
   "source": [
    "# Q1"
   ]
  },
  {
   "cell_type": "code",
   "execution_count": 1,
   "id": "4f10fda8",
   "metadata": {},
   "outputs": [],
   "source": [
    "a = 0\n",
    "\n",
    "def b():\n",
    "    global a\n",
    "    a = c(a)\n",
    "    \n",
    "def c(a):\n",
    "    return a + 2"
   ]
  },
  {
   "cell_type": "code",
   "execution_count": 2,
   "id": "b4294014",
   "metadata": {},
   "outputs": [
    {
     "data": {
      "text/plain": [
       "6"
      ]
     },
     "execution_count": 2,
     "metadata": {},
     "output_type": "execute_result"
    }
   ],
   "source": [
    "b()\n",
    "b()\n",
    "b()\n",
    "a"
   ]
  },
  {
   "cell_type": "markdown",
   "id": "3d61d880",
   "metadata": {},
   "source": [
    "# Answer:"
   ]
  },
  {
   "cell_type": "markdown",
   "id": "cfdbf74a",
   "metadata": {},
   "source": [
    "### Initially, the value of a is set to 0.\n",
    "### The function b() is defined, which updates the value of the global variable a by calling the function c(a) and passing the current value of a to it. The result of c(a) is assigned to the global variable a.\n",
    "### The function c(a) takes a parameter a, adds 2 to it, and returns the result.\n",
    "### When we call b() for the first time, the value of a is updated by calling c(a) with the initial value of a as 0. The function c(a) adds 2 to a and returns 2, which is then assigned to the global variable a.\n",
    "### When we call b() for the second time, the value of a is updated again by calling c(a) with the current value of a as 2. The function c(a) adds 2 to a and returns 4, which is then assigned to the global variable a.\n",
    "### When we call b() for the third time, the value of a is updated again by calling c(a) with the current value of a as 4. The function c(a) adds 2 to a and returns 6, which is then assigned to the global variable a.\n",
    "### Finally, when we evaluate the expression a, the value of the global variable a is 6.\n",
    "### Therefore, the value displayed when the last expression a is evaluated is 6."
   ]
  },
  {
   "cell_type": "markdown",
   "id": "e8620b2e",
   "metadata": {},
   "source": [
    "# Q2"
   ]
  },
  {
   "cell_type": "markdown",
   "id": "7360a9f3",
   "metadata": {},
   "source": [
    "##  >>> fileLength('midterm.py')<br> 284 <br> >>> fileLength('idterm.py')<br> Traceback (most recent call last):<br> File \"<pyshell#34>\", line 1, in \\<module\\><br> fileLength('idterm.py')<br> File \"/Users/me/midterm.py\", line 3, in<br> fileLength<br> infile = open(filename)<br> FileNotFoundError: [Errno 2] No such file or directory:<br> 'idterm.py'<br>\n",
    "\n",
    "## As shown above, if the file cannot be found by the interpreter or if it cannot be read<br> as a text file, an exception will be raised.<br> Modify function fileLength() so that a <br>friendly message is printed instead:"
   ]
  },
  {
   "cell_type": "code",
   "execution_count": 3,
   "id": "dc0e4da6",
   "metadata": {},
   "outputs": [
    {
     "name": "stdout",
     "output_type": "stream",
     "text": [
      "299\n"
     ]
    }
   ],
   "source": [
    "import Filelength\n",
    "\n",
    "Filelength.fileLength('Filelength.py')"
   ]
  },
  {
   "cell_type": "code",
   "execution_count": 4,
   "id": "b502146d",
   "metadata": {},
   "outputs": [
    {
     "name": "stdout",
     "output_type": "stream",
     "text": [
      "Error: File idterm.py not found.\n"
     ]
    }
   ],
   "source": [
    "Filelength.fileLength('idterm.py')"
   ]
  },
  {
   "cell_type": "markdown",
   "id": "bf675b2e",
   "metadata": {},
   "source": [
    "# Q3"
   ]
  },
  {
   "cell_type": "code",
   "execution_count": 5,
   "id": "b320429d",
   "metadata": {},
   "outputs": [
    {
     "data": {
      "text/plain": [
       "['doll', 'firetruck', 'kitten']"
      ]
     },
     "execution_count": 5,
     "metadata": {},
     "output_type": "execute_result"
    }
   ],
   "source": [
    "class Marsupial:\n",
    "    def __init__(self):\n",
    "        self.listFile = []\n",
    "\n",
    "    def put_in_pouch(self, a):\n",
    "        self.listFile.append(a)\n",
    "\n",
    "    def pouch_contents(self):\n",
    "        return self.listFile\n",
    "\n",
    "\n",
    "class Kangaroo(Marsupial):\n",
    "    def __init__(self, x, y):\n",
    "        super().__init__()\n",
    "        self.x = x\n",
    "        self.y = y\n",
    "\n",
    "    def jump(self, dx, dy):\n",
    "        self.x += dx\n",
    "        self.y += dy\n",
    "\n",
    "    def __str__(self):\n",
    "        return f\"I am a Kangaroo located at coordinates ({self.x}, {self.y})\"\n",
    "\n",
    "m = Marsupial()\n",
    "m.put_in_pouch('doll')\n",
    "m.put_in_pouch('firetruck')\n",
    "m.put_in_pouch('kitten')\n",
    "m.pouch_contents()"
   ]
  },
  {
   "cell_type": "markdown",
   "id": "2f91a22f",
   "metadata": {},
   "source": [
    "## Now write a class named Kangaroo as a subclass of Marsupial that inherits all the attributes of Marsupial and also:\n",
    "\n",
    "## a. extends the Marsupial __init__ constructor to take, as input, the coordinates x and y of the Kangaroo object,<br><br> b. supports method jump that takes number values dx and dy as input and moves the kangaroo by dx units along the x-axis and by dy units along the y-axis, and<br><br> c. overloads the __str__ operator so it behaves as shown below."
   ]
  },
  {
   "cell_type": "code",
   "execution_count": 6,
   "id": "384edf83",
   "metadata": {},
   "outputs": [
    {
     "name": "stdout",
     "output_type": "stream",
     "text": [
      "I am a Kangaroo located at coordinates (0, 0)\n",
      "['doll', 'firetruck', 'kitten']\n",
      "I am a Kangaroo located at coordinates (3, 0)\n"
     ]
    }
   ],
   "source": [
    "k = Kangaroo(0, 0)\n",
    "print(k)\n",
    "k.put_in_pouch('doll')\n",
    "k.put_in_pouch('firetruck')\n",
    "k.put_in_pouch('kitten')\n",
    "print(k.pouch_contents()) \n",
    "k.jump(1, 0)\n",
    "k.jump(1, 0)\n",
    "k.jump(1, 0)\n",
    "print(k)"
   ]
  },
  {
   "cell_type": "markdown",
   "id": "569fc6f3",
   "metadata": {},
   "source": [
    "# Q4"
   ]
  },
  {
   "cell_type": "code",
   "execution_count": 7,
   "id": "e2388b73",
   "metadata": {},
   "outputs": [],
   "source": [
    "def collatz(x):\n",
    "    print(x)\n",
    "    if x<= 0:\n",
    "        print(\"Enter Positive number only.\")\n",
    "        return\n",
    "    elif x == 1:\n",
    "        return\n",
    "    elif x % 2 == 0:\n",
    "        a = x // 2\n",
    "        collatz(a)\n",
    "    else:\n",
    "        a = (3 * x) + 1\n",
    "        collatz(a)"
   ]
  },
  {
   "cell_type": "code",
   "execution_count": 8,
   "id": "f0074d91",
   "metadata": {},
   "outputs": [
    {
     "name": "stdout",
     "output_type": "stream",
     "text": [
      "Enter any Positive number: 56\n",
      "56\n",
      "28\n",
      "14\n",
      "7\n",
      "22\n",
      "11\n",
      "34\n",
      "17\n",
      "52\n",
      "26\n",
      "13\n",
      "40\n",
      "20\n",
      "10\n",
      "5\n",
      "16\n",
      "8\n",
      "4\n",
      "2\n",
      "1\n"
     ]
    }
   ],
   "source": [
    "try:\n",
    "    x = int(input(\"Enter any Positive number: \"))\n",
    "    collatz(x)\n",
    "except Exception as e:\n",
    "    print('Error: ' + str(e))\n"
   ]
  },
  {
   "cell_type": "markdown",
   "id": "b8a4f3f4",
   "metadata": {},
   "source": [
    "# Q5"
   ]
  },
  {
   "cell_type": "code",
   "execution_count": 9,
   "id": "13204017",
   "metadata": {},
   "outputs": [
    {
     "name": "stdout",
     "output_type": "stream",
     "text": [
      "\n",
      " binary(0) = 0\n",
      " binary(1) = 1\n",
      " binary(3) = 11\n",
      " binary(9) = 1001"
     ]
    }
   ],
   "source": [
    "global temp\n",
    "temp = \"\"\n",
    "\n",
    "def binary(n):\n",
    "    x = n\n",
    "    if x > 1:\n",
    "        binary(x // 2)\n",
    "    print(x % 2, end=\"\")\n",
    "\n",
    "    \n",
    "print(\"\\n binary(0) = \", end=\"\")\n",
    "binary(0)\n",
    "print(\"\\n binary(1) = \", end=\"\")\n",
    "binary(1)\n",
    "print(\"\\n binary(3) = \", end=\"\")\n",
    "binary(3)\n",
    "print(\"\\n binary(9) = \", end=\"\")\n",
    "binary(9)"
   ]
  },
  {
   "cell_type": "markdown",
   "id": "d23d62ac",
   "metadata": {},
   "source": [
    "# Q6"
   ]
  },
  {
   "cell_type": "code",
   "execution_count": 10,
   "id": "c1b3ba3b",
   "metadata": {},
   "outputs": [
    {
     "name": "stdout",
     "output_type": "stream",
     "text": [
      "W3C Mission\n",
      " Principles\n"
     ]
    }
   ],
   "source": [
    "from html.parser import HTMLParser\n",
    "\n",
    "class HeadingParser(HTMLParser):\n",
    "    def __init__(self):\n",
    "        super().__init__()\n",
    "        self.heading_level = 0\n",
    "        self.in_heading = False\n",
    "    \n",
    "    def handle_starttag(self, tag, attrs):\n",
    "        if tag.startswith('h') and len(tag) == 2:\n",
    "            self.heading_level = int(tag[1])\n",
    "            self.in_heading = True\n",
    "    \n",
    "    def handle_endtag(self, tag):\n",
    "        if tag.startswith('h') and len(tag) == 2:\n",
    "            self.heading_level = 0\n",
    "            self.in_heading = False\n",
    "    \n",
    "    def handle_data(self, data):\n",
    "        if self.in_heading:\n",
    "            indent = ' ' * (self.heading_level - 1)\n",
    "            print(f\"{indent}{data}\")\n",
    "\n",
    "            \n",
    "infile = open('w3c.html')\n",
    "content = infile.read()\n",
    "infile.close()\n",
    "\n",
    "hp = HeadingParser()\n",
    "hp.feed(content)\n"
   ]
  },
  {
   "cell_type": "markdown",
   "id": "3f8af380",
   "metadata": {},
   "source": [
    "# Q7"
   ]
  },
  {
   "cell_type": "code",
   "execution_count": 11,
   "id": "2702e394",
   "metadata": {},
   "outputs": [
    {
     "name": "stdout",
     "output_type": "stream",
     "text": [
      "https://www.ibm.com/ca-en\n",
      " https://www.ibm.com/thought-leadership/institute-business-value/en-us/c-suite-study/ceo?lnk=hpenls1\n",
      " https://www.ibm.com/ca-en#3171776\n",
      " https://www.ibm.com/ca-en#3171802\n",
      " https://www.ibm.com/ca-en#3171808\n",
      " https://www.ibm.com/ca-en#3171812\n",
      " https://www.ibm.com/ca-en#3171828\n",
      " https://www.ibm.com/ca-en#3171834\n",
      " https://newsroom.ibm.com/Drawing-Inspiration-from-Stories-in-Asia-Pacific-Training-1-Million-Women-and-Girls-in-the-Region\n",
      " https://www.ibm.com/ca-en/about\n",
      " https://www.ibm.com/ca-en#tab_3171780\n",
      " https://www.ibm.com/ca-en#tab_3171784\n",
      " https://www.ibm.com/ca-en#tab_3171788\n",
      " https://www.ibm.com/ca-en#tab_3171792\n",
      " https://www.ibm.com/ca-en#tab_3171796\n",
      " https://www.ibm.com/ca-en#tab_3171800\n",
      " https://www.ibm.com/consulting/?lnk=hpenco1\n",
      " https://www.ibm.com/consulting/strategy/?lnk=hpenco2\n",
      " https://www.ibm.com/consulting/strategy/?lnk=hpenco3\n",
      " https://www.ibm.com/consulting/technology/?lnk=hpenco4\n",
      " https://www.ibm.com/services/operations-consulting?lnk=hpenco5\n",
      " https://www.ibm.com/strategic-partnerships?lnk=hpenco6\n",
      " https://www.ibm.com/case-studies/iberdrola?lnk=hpencs1\n",
      " https://www.ibm.com/employment/?lnk=hpenii1\n",
      " https://research.ibm.com/?lnk=hpenii2\n",
      " https://www.ibm.com/impact?lnk=hpenii3\n",
      " https://www.ibm.com/ca-en/about?lnk=hpenai1\n"
     ]
    }
   ],
   "source": [
    "from urllib.request import urlopen\n",
    "from urllib.parse import urljoin\n",
    "from html.parser import HTMLParser\n",
    "\n",
    "\n",
    "class Collector(HTMLParser):\n",
    "    'collects hyperlink URLs into a list'\n",
    "\n",
    "    def __init__(self, url):\n",
    "        HTMLParser.__init__(self)\n",
    "        self.url = url\n",
    "        self.links = []\n",
    "\n",
    "    def handle_starttag(self, tag, attrs):\n",
    "        if tag == 'a':\n",
    "            for attr in attrs:\n",
    "                if attr[0] == 'href':\n",
    "                    absolute = urljoin(self.url, attr[1])\n",
    "                    if absolute[:4] == 'http':  # collect HTTP URLs\n",
    "                        self.links.append(absolute)\n",
    "\n",
    "    def getLinks(self):\n",
    "        return self.links\n",
    "\n",
    "\n",
    "visited = set()  # initialize visited to an empty set\n",
    "\n",
    "\n",
    "def webdir(url, depth, indent):\n",
    "    global visited\n",
    "    if depth == 0:\n",
    "        return\n",
    "    if url in visited:\n",
    "        return\n",
    "    visited.add(url)\n",
    "    print(' ' * indent + url)\n",
    "    try:\n",
    "        content = urlopen(url).read().decode()\n",
    "    except:\n",
    "        return\n",
    "    collector = Collector(url)\n",
    "    collector.feed(content)\n",
    "    links = collector.getLinks()\n",
    "    for link in links:\n",
    "        webdir(link, depth - 1, indent + 1)\n",
    "\n",
    "\n",
    "# test the webdir function\n",
    "webdir('https://www.ibm.com/ca-en', 2, 0)\n"
   ]
  },
  {
   "cell_type": "markdown",
   "id": "832b281e",
   "metadata": {},
   "source": [
    "# Q8"
   ]
  },
  {
   "cell_type": "markdown",
   "id": "43bf216b",
   "metadata": {},
   "source": [
    "#  a) All the temperature data.\n",
    "## &nbsp;&nbsp;&nbsp;&nbsp;SELECT Temperature FROM tableTemperature;\n",
    "# b) All the cities, but without repetition.\n",
    "## &nbsp;&nbsp;&nbsp;&nbsp;SELECT DISTINCT City FROM tableTemperature;\n",
    "# c) All the records for India.\n",
    "## &nbsp;&nbsp;&nbsp;&nbsp;SELECT * FROM tableTemperature WHERE Country='India';\n",
    "# d) All the Fall records.\n",
    "## &nbsp;&nbsp;&nbsp;&nbsp;SELECT * FROM tableTemperature WHERE Season='Fall';\n",
    "# e) The city, country, and season for which the average rainfall is between 200 and 400 millimeters.\n",
    "## &nbsp;&nbsp;&nbsp;&nbsp;SELECT City, Country, Season FROM tableTemperature WHERE Rainfall BETWEEN 200 AND 400;\n",
    "# f) The city and country for which the average Fall temperature is above 20 degrees, in increasing temperature order.\n",
    "## &nbsp;&nbsp;&nbsp;&nbsp;SELECT City, Country FROM tableTemperature WHERE Season='Fall' AND Temperature > 20 ORDER BY Temperature ASC;\n",
    "# g) The total annual rainfall for Cairo.\n",
    "## &nbsp;&nbsp;&nbsp;&nbsp;SELECT SUM(Rainfall) FROM tableTemperature WHERE City='Cairo';\n",
    "# h) The total rainfall for each season.\n",
    "## &nbsp;&nbsp;&nbsp;&nbsp;SELECT Season, SUM(Rainfall) FROM tableTemperature GROUP BY Season;"
   ]
  },
  {
   "cell_type": "markdown",
   "id": "a47ce951",
   "metadata": {},
   "source": [
    "# Q9"
   ]
  },
  {
   "cell_type": "code",
   "execution_count": 12,
   "id": "2cb8bf02",
   "metadata": {},
   "outputs": [],
   "source": [
    "words = ['The', 'quick', 'brown', 'fox', 'jumps', 'over','the', 'lazy', 'dog']"
   ]
  },
  {
   "cell_type": "markdown",
   "id": "f0dccf52",
   "metadata": {},
   "source": [
    "## <font color=\"blue\"> Write list comprehension expressions that use list words and generate the following lists: "
   ]
  },
  {
   "cell_type": "markdown",
   "id": "125f6fdd",
   "metadata": {},
   "source": [
    "### a) ['THE', 'QUICK', 'BROWN', 'FOX', 'JUMPS', 'OVER', 'THE', 'LAZY', 'DOG']"
   ]
  },
  {
   "cell_type": "code",
   "execution_count": 13,
   "id": "1a3a36b8",
   "metadata": {},
   "outputs": [
    {
     "name": "stdout",
     "output_type": "stream",
     "text": [
      "['THE', 'QUICK', 'BROWN', 'FOX', 'JUMPS', 'OVER', 'THE', 'LAZY', 'DOG']\n"
     ]
    }
   ],
   "source": [
    "lt1 = []\n",
    "for word in words:\n",
    "    lt1.append(word.upper())\n",
    "print(lt1)"
   ]
  },
  {
   "cell_type": "markdown",
   "id": "6b43df15",
   "metadata": {},
   "source": [
    "### b) ['the', 'quick', 'brown', 'fox', 'jumps', 'over', 'the', 'lazy', 'dog']"
   ]
  },
  {
   "cell_type": "code",
   "execution_count": 14,
   "id": "479e8af7",
   "metadata": {},
   "outputs": [
    {
     "name": "stdout",
     "output_type": "stream",
     "text": [
      "['the', 'quick', 'brown', 'fox', 'jumps', 'over', 'the', 'lazy', 'dog']\n"
     ]
    }
   ],
   "source": [
    "lt2 = []\n",
    "for word in words:\n",
    "    lt2.append(word.lower())\n",
    "print(lt2)"
   ]
  },
  {
   "cell_type": "markdown",
   "id": "389ba54a",
   "metadata": {},
   "source": [
    "### c) [3, 5, 5, 3, 5, 4, 3, 4, 3] (the list of lengths of words in list words)."
   ]
  },
  {
   "cell_type": "code",
   "execution_count": 15,
   "id": "a4f4c040",
   "metadata": {},
   "outputs": [
    {
     "name": "stdout",
     "output_type": "stream",
     "text": [
      "[3, 5, 5, 3, 5, 4, 3, 4, 3]\n"
     ]
    }
   ],
   "source": [
    "lt3 = []\n",
    "for word in words:\n",
    "    lt3.append(len(word))\n",
    "print(lt3)"
   ]
  },
  {
   "cell_type": "markdown",
   "id": "55c062e3",
   "metadata": {},
   "source": [
    "### d) [['THE', 'the', 3], ['QUICK', 'quick', 5], ['BROWN', 'brown', 5], ['FOX', 'fox', 3], ['JUMPS', 'jumps', 5],<br>&nbsp;&nbsp;&nbsp;&nbsp; ['OVER', 'over', 4], ['THE', 'the', 3], ['LAZY', 'lazy', 4], ['DOG', 'dog', 3]] (the list containing a list for every word of<br>&nbsp;&nbsp;&nbsp;&nbsp; list words, where each list contains the word in uppercase and lowercase and the length of the word.)"
   ]
  },
  {
   "cell_type": "code",
   "execution_count": 16,
   "id": "c9e810c1",
   "metadata": {},
   "outputs": [
    {
     "name": "stdout",
     "output_type": "stream",
     "text": [
      "[['THE', 'the', 3], ['QUICK', 'quick', 5], ['BROWN', 'brown', 5], ['FOX', 'fox', 3], ['JUMPS', 'jumps', 5], ['OVER', 'over', 4], ['THE', 'the', 3], ['LAZY', 'lazy', 4], ['DOG', 'dog', 3]]\n"
     ]
    }
   ],
   "source": [
    "lt4 = []\n",
    "for word in words:\n",
    "    ListTemp = []\n",
    "    ListTemp.append(word.upper())\n",
    "    ListTemp.append(word.lower())\n",
    "    ListTemp.append(len(word))\n",
    "    lt4.append(ListTemp)\n",
    "print(lt4)"
   ]
  },
  {
   "cell_type": "markdown",
   "id": "b360e2a9",
   "metadata": {},
   "source": [
    "### e) ['The', 'quick', 'brown', 'fox', 'jumps', 'over', 'the', 'lazy', 'dog'] (the list of words in list words containing 4 or more characters.)"
   ]
  },
  {
   "cell_type": "code",
   "execution_count": 17,
   "id": "7b55629a",
   "metadata": {},
   "outputs": [
    {
     "name": "stdout",
     "output_type": "stream",
     "text": [
      "['quick', 'brown', 'jumps', 'over', 'lazy']\n"
     ]
    }
   ],
   "source": [
    "lt5 = []\n",
    "for word in words:\n",
    "    if len(word) >= 4:\n",
    "        lt5.append(word)\n",
    "print(lt5)"
   ]
  }
 ],
 "metadata": {
  "kernelspec": {
   "display_name": "Python 3 (ipykernel)",
   "language": "python",
   "name": "python3"
  },
  "language_info": {
   "codemirror_mode": {
    "name": "ipython",
    "version": 3
   },
   "file_extension": ".py",
   "mimetype": "text/x-python",
   "name": "python",
   "nbconvert_exporter": "python",
   "pygments_lexer": "ipython3",
   "version": "3.9.13"
  }
 },
 "nbformat": 4,
 "nbformat_minor": 5
}
